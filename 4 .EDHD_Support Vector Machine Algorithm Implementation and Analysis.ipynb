{
 "cells": [
  {
   "cell_type": "markdown",
   "id": "92a86725",
   "metadata": {},
   "source": [
    "# Early Heart Disease Prediction Detection Using Machine Learning Algorithms\n"
   ]
  },
  {
   "cell_type": "markdown",
   "id": "bc93ba66",
   "metadata": {},
   "source": [
    "## Support Vector Machine (SVM)\n"
   ]
  },
  {
   "cell_type": "code",
   "execution_count": 3,
   "id": "b1e7017a",
   "metadata": {},
   "outputs": [],
   "source": [
    "import pandas as edhd_pd\n",
    "import numpy as edhd_np\n",
    "from sklearn.model_selection import train_test_split\n",
    "from sklearn.svm import SVC\n",
    "from imblearn.over_sampling import SMOTE\n",
    "from collections import Counter\n",
    "import matplotlib.pyplot as edhd_plot\n",
    "import seaborn as edhd_sns\n",
    "import plotly.express as px\n",
    "from sklearn.ensemble import RandomForestClassifier\n",
    "\n",
    "from sklearn.datasets import make_classification\n",
    "\n",
    "\n",
    "import keras\n",
    "from keras.models import Sequential\n",
    "from keras.layers import Dense\n",
    "from keras.layers import Dropout\n",
    "from keras.models import Sequential, Model\n",
    "from keras.optimizers import Adam\n"
   ]
  },
  {
   "cell_type": "code",
   "execution_count": 4,
   "id": "209f139b",
   "metadata": {},
   "outputs": [
    {
     "data": {
      "text/html": [
       "<div>\n",
       "<style scoped>\n",
       "    .dataframe tbody tr th:only-of-type {\n",
       "        vertical-align: middle;\n",
       "    }\n",
       "\n",
       "    .dataframe tbody tr th {\n",
       "        vertical-align: top;\n",
       "    }\n",
       "\n",
       "    .dataframe thead th {\n",
       "        text-align: right;\n",
       "    }\n",
       "</style>\n",
       "<table border=\"1\" class=\"dataframe\">\n",
       "  <thead>\n",
       "    <tr style=\"text-align: right;\">\n",
       "      <th></th>\n",
       "      <th>Age</th>\n",
       "      <th>Sex</th>\n",
       "      <th>Chest Pain Type</th>\n",
       "      <th>Resting Blood Pressure</th>\n",
       "      <th>Cholesterol</th>\n",
       "      <th>Fasting Blood Sugar</th>\n",
       "      <th>Resting Electrocardiographic Results</th>\n",
       "      <th>Maximum Heart Rate Achieved</th>\n",
       "      <th>Exercise-Induced Angina</th>\n",
       "      <th>ST Depression</th>\n",
       "      <th>Slope of the Peak Exercise</th>\n",
       "      <th>Number of Vessels</th>\n",
       "      <th>Thalassemia</th>\n",
       "      <th>Heart Disease</th>\n",
       "    </tr>\n",
       "  </thead>\n",
       "  <tbody>\n",
       "    <tr>\n",
       "      <th>0</th>\n",
       "      <td>63</td>\n",
       "      <td>1</td>\n",
       "      <td>0</td>\n",
       "      <td>145</td>\n",
       "      <td>233</td>\n",
       "      <td>0</td>\n",
       "      <td>2</td>\n",
       "      <td>150</td>\n",
       "      <td>0</td>\n",
       "      <td>2.3</td>\n",
       "      <td>0</td>\n",
       "      <td>0</td>\n",
       "      <td>1</td>\n",
       "      <td>1</td>\n",
       "    </tr>\n",
       "    <tr>\n",
       "      <th>1</th>\n",
       "      <td>37</td>\n",
       "      <td>1</td>\n",
       "      <td>2</td>\n",
       "      <td>130</td>\n",
       "      <td>250</td>\n",
       "      <td>1</td>\n",
       "      <td>1</td>\n",
       "      <td>187</td>\n",
       "      <td>0</td>\n",
       "      <td>3.5</td>\n",
       "      <td>0</td>\n",
       "      <td>0</td>\n",
       "      <td>2</td>\n",
       "      <td>1</td>\n",
       "    </tr>\n",
       "    <tr>\n",
       "      <th>2</th>\n",
       "      <td>41</td>\n",
       "      <td>0</td>\n",
       "      <td>1</td>\n",
       "      <td>130</td>\n",
       "      <td>204</td>\n",
       "      <td>1</td>\n",
       "      <td>2</td>\n",
       "      <td>172</td>\n",
       "      <td>0</td>\n",
       "      <td>1.4</td>\n",
       "      <td>2</td>\n",
       "      <td>0</td>\n",
       "      <td>2</td>\n",
       "      <td>1</td>\n",
       "    </tr>\n",
       "    <tr>\n",
       "      <th>3</th>\n",
       "      <td>56</td>\n",
       "      <td>1</td>\n",
       "      <td>1</td>\n",
       "      <td>120</td>\n",
       "      <td>236</td>\n",
       "      <td>1</td>\n",
       "      <td>1</td>\n",
       "      <td>178</td>\n",
       "      <td>0</td>\n",
       "      <td>0.8</td>\n",
       "      <td>2</td>\n",
       "      <td>0</td>\n",
       "      <td>2</td>\n",
       "      <td>1</td>\n",
       "    </tr>\n",
       "    <tr>\n",
       "      <th>4</th>\n",
       "      <td>57</td>\n",
       "      <td>0</td>\n",
       "      <td>3</td>\n",
       "      <td>120</td>\n",
       "      <td>354</td>\n",
       "      <td>1</td>\n",
       "      <td>1</td>\n",
       "      <td>163</td>\n",
       "      <td>1</td>\n",
       "      <td>0.6</td>\n",
       "      <td>2</td>\n",
       "      <td>0</td>\n",
       "      <td>2</td>\n",
       "      <td>1</td>\n",
       "    </tr>\n",
       "    <tr>\n",
       "      <th>...</th>\n",
       "      <td>...</td>\n",
       "      <td>...</td>\n",
       "      <td>...</td>\n",
       "      <td>...</td>\n",
       "      <td>...</td>\n",
       "      <td>...</td>\n",
       "      <td>...</td>\n",
       "      <td>...</td>\n",
       "      <td>...</td>\n",
       "      <td>...</td>\n",
       "      <td>...</td>\n",
       "      <td>...</td>\n",
       "      <td>...</td>\n",
       "      <td>...</td>\n",
       "    </tr>\n",
       "    <tr>\n",
       "      <th>298</th>\n",
       "      <td>57</td>\n",
       "      <td>0</td>\n",
       "      <td>3</td>\n",
       "      <td>140</td>\n",
       "      <td>241</td>\n",
       "      <td>1</td>\n",
       "      <td>1</td>\n",
       "      <td>123</td>\n",
       "      <td>1</td>\n",
       "      <td>0.2</td>\n",
       "      <td>1</td>\n",
       "      <td>0</td>\n",
       "      <td>3</td>\n",
       "      <td>0</td>\n",
       "    </tr>\n",
       "    <tr>\n",
       "      <th>299</th>\n",
       "      <td>45</td>\n",
       "      <td>1</td>\n",
       "      <td>0</td>\n",
       "      <td>110</td>\n",
       "      <td>264</td>\n",
       "      <td>1</td>\n",
       "      <td>1</td>\n",
       "      <td>132</td>\n",
       "      <td>0</td>\n",
       "      <td>1.2</td>\n",
       "      <td>1</td>\n",
       "      <td>0</td>\n",
       "      <td>3</td>\n",
       "      <td>0</td>\n",
       "    </tr>\n",
       "    <tr>\n",
       "      <th>300</th>\n",
       "      <td>68</td>\n",
       "      <td>1</td>\n",
       "      <td>3</td>\n",
       "      <td>144</td>\n",
       "      <td>193</td>\n",
       "      <td>0</td>\n",
       "      <td>1</td>\n",
       "      <td>141</td>\n",
       "      <td>0</td>\n",
       "      <td>3.4</td>\n",
       "      <td>1</td>\n",
       "      <td>2</td>\n",
       "      <td>3</td>\n",
       "      <td>0</td>\n",
       "    </tr>\n",
       "    <tr>\n",
       "      <th>301</th>\n",
       "      <td>57</td>\n",
       "      <td>1</td>\n",
       "      <td>3</td>\n",
       "      <td>130</td>\n",
       "      <td>131</td>\n",
       "      <td>1</td>\n",
       "      <td>1</td>\n",
       "      <td>115</td>\n",
       "      <td>1</td>\n",
       "      <td>1.2</td>\n",
       "      <td>1</td>\n",
       "      <td>1</td>\n",
       "      <td>3</td>\n",
       "      <td>0</td>\n",
       "    </tr>\n",
       "    <tr>\n",
       "      <th>302</th>\n",
       "      <td>57</td>\n",
       "      <td>0</td>\n",
       "      <td>1</td>\n",
       "      <td>130</td>\n",
       "      <td>236</td>\n",
       "      <td>1</td>\n",
       "      <td>2</td>\n",
       "      <td>174</td>\n",
       "      <td>0</td>\n",
       "      <td>0.0</td>\n",
       "      <td>1</td>\n",
       "      <td>1</td>\n",
       "      <td>2</td>\n",
       "      <td>0</td>\n",
       "    </tr>\n",
       "  </tbody>\n",
       "</table>\n",
       "<p>303 rows × 14 columns</p>\n",
       "</div>"
      ],
      "text/plain": [
       "     Age  Sex  Chest Pain Type  Resting Blood Pressure  Cholesterol  \\\n",
       "0     63    1                0                     145          233   \n",
       "1     37    1                2                     130          250   \n",
       "2     41    0                1                     130          204   \n",
       "3     56    1                1                     120          236   \n",
       "4     57    0                3                     120          354   \n",
       "..   ...  ...              ...                     ...          ...   \n",
       "298   57    0                3                     140          241   \n",
       "299   45    1                0                     110          264   \n",
       "300   68    1                3                     144          193   \n",
       "301   57    1                3                     130          131   \n",
       "302   57    0                1                     130          236   \n",
       "\n",
       "     Fasting Blood Sugar  Resting Electrocardiographic Results  \\\n",
       "0                      0                                     2   \n",
       "1                      1                                     1   \n",
       "2                      1                                     2   \n",
       "3                      1                                     1   \n",
       "4                      1                                     1   \n",
       "..                   ...                                   ...   \n",
       "298                    1                                     1   \n",
       "299                    1                                     1   \n",
       "300                    0                                     1   \n",
       "301                    1                                     1   \n",
       "302                    1                                     2   \n",
       "\n",
       "     Maximum Heart Rate Achieved  Exercise-Induced Angina  ST Depression  \\\n",
       "0                            150                        0            2.3   \n",
       "1                            187                        0            3.5   \n",
       "2                            172                        0            1.4   \n",
       "3                            178                        0            0.8   \n",
       "4                            163                        1            0.6   \n",
       "..                           ...                      ...            ...   \n",
       "298                          123                        1            0.2   \n",
       "299                          132                        0            1.2   \n",
       "300                          141                        0            3.4   \n",
       "301                          115                        1            1.2   \n",
       "302                          174                        0            0.0   \n",
       "\n",
       "     Slope of the Peak Exercise  Number of Vessels  Thalassemia  Heart Disease  \n",
       "0                             0                  0            1              1  \n",
       "1                             0                  0            2              1  \n",
       "2                             2                  0            2              1  \n",
       "3                             2                  0            2              1  \n",
       "4                             2                  0            2              1  \n",
       "..                          ...                ...          ...            ...  \n",
       "298                           1                  0            3              0  \n",
       "299                           1                  0            3              0  \n",
       "300                           1                  2            3              0  \n",
       "301                           1                  1            3              0  \n",
       "302                           1                  1            2              0  \n",
       "\n",
       "[303 rows x 14 columns]"
      ]
     },
     "execution_count": 4,
     "metadata": {},
     "output_type": "execute_result"
    }
   ],
   "source": [
    "# loading edhd cleaned dataset\n",
    "\n",
    "edhd_DataFrame= edhd_pd.read_csv('EDHD_Preprocessed.csv')\n",
    "edhd_DataFrame"
   ]
  },
  {
   "cell_type": "code",
   "execution_count": 5,
   "id": "cca6e940",
   "metadata": {},
   "outputs": [],
   "source": [
    "# Strip leading/trailing spaces from column names\n",
    "edhd_DataFrame.columns = edhd_DataFrame.columns.str.strip()\n",
    "\n",
    "ind_features = edhd_DataFrame.drop(columns = ['Heart Disease'],axis =1)\n",
    "X = ind_features\n",
    "dep_features = edhd_DataFrame['Heart Disease']\n",
    "y = dep_features"
   ]
  },
  {
   "cell_type": "code",
   "execution_count": 6,
   "id": "0fe2fdad",
   "metadata": {},
   "outputs": [
    {
     "data": {
      "text/plain": [
       "Counter({1: 165, 0: 138})"
      ]
     },
     "execution_count": 6,
     "metadata": {},
     "output_type": "execute_result"
    }
   ],
   "source": [
    "Counter(y)"
   ]
  },
  {
   "cell_type": "code",
   "execution_count": 7,
   "id": "afcf1902",
   "metadata": {},
   "outputs": [
    {
     "data": {
      "text/plain": [
       "Counter({1: 165, 0: 165})"
      ]
     },
     "execution_count": 7,
     "metadata": {},
     "output_type": "execute_result"
    }
   ],
   "source": [
    "#performing Synthetic Minority Over-sampling Technique (SMOTE) to balance dataset.\n",
    "sampler = SMOTE(random_state=5)\n",
    "newSampledValue_x, newSampledValue_y = sampler.fit_resample(X, y)\n",
    "X = newSampledValue_x\n",
    "y = newSampledValue_y\n",
    "Counter(newSampledValue_y)"
   ]
  },
  {
   "cell_type": "code",
   "execution_count": 8,
   "id": "f895f907",
   "metadata": {},
   "outputs": [],
   "source": [
    "edhd_X_trainValue, edhd_X_textValue, edhd_y_trainValue, edhd_y_textValue = train_test_split(X, y, test_size = 0.25, random_state = 5)"
   ]
  },
  {
   "cell_type": "code",
   "execution_count": 9,
   "id": "0eeea369",
   "metadata": {},
   "outputs": [
    {
     "name": "stdout",
     "output_type": "stream",
     "text": [
      "Acc for Train of SVC is 0.708502024291498\n",
      "Acc for Test of SVC is 0.7349397590361446 \n",
      "\n"
     ]
    }
   ],
   "source": [
    "#model building\n",
    "from sklearn.metrics import accuracy_score, confusion_matrix, classification_report,precision_score, recall_score ,f1_score, roc_curve, roc_auc_score\n",
    "SVCmodel=  SVC(probability=True)\n",
    "SVCmodel.fit(edhd_X_trainValue, edhd_y_trainValue)\n",
    "\n",
    "\n",
    "predictedValue_y = SVCmodel.predict(edhd_X_textValue)\n",
    "svc_accuracy = accuracy_score(edhd_y_textValue, predictedValue_y)\n",
    "\n",
    "print(f\"Acc for Train of SVC is {accuracy_score(edhd_y_trainValue, SVCmodel.predict(edhd_X_trainValue))}\")\n",
    "print(f\"Acc for Test of SVC is {svc_accuracy} \\n\")\n",
    "cm =confusion_matrix(edhd_y_textValue, SVCmodel.predict(edhd_X_textValue))\n",
    "class_report = classification_report(edhd_y_textValue, predictedValue_y)"
   ]
  },
  {
   "cell_type": "code",
   "execution_count": 10,
   "id": "7719d13f",
   "metadata": {},
   "outputs": [
    {
     "data": {
      "image/png": "[encoded data removed]",
      "text/plain": [
       "<Figure size 500x300 with 1 Axes>"
      ]
     },
     "metadata": {},
     "output_type": "display_data"
    }
   ],
   "source": [
    "edhd_plot.figure(figsize=(5, 3))\n",
    "edhd_sns.heatmap(cm, annot=True, fmt=\"d\", cmap=\"Blues\", cbar=False,\n",
    "            xticklabels=['HDP', 'Not-HDP'], yticklabels=['HDP', 'Not-HDP'])\n",
    "edhd_plot.title('Confusion_Matrix')\n",
    "edhd_plot.xlabel('Predicted')\n",
    "edhd_plot.ylabel('Actual')\n",
    "edhd_plot.show()"
   ]
  },
  {
   "cell_type": "code",
   "execution_count": 11,
   "id": "8901a33e",
   "metadata": {},
   "outputs": [
    {
     "data": {
      "image/png": "[encoded data removed]",
      "text/plain": [
       "<Figure size 1000x500 with 1 Axes>"
      ]
     },
     "metadata": {},
     "output_type": "display_data"
    }
   ],
   "source": [
    "dataLines = class_report.split('\\n')\n",
    "classes = ['HDP','not HDP','macro avg','weighted avg']\n",
    "table_data = []\n",
    "\n",
    "for eachLine in dataLines[2:]:\n",
    "    if eachLine.strip() and not eachLine.strip().startswith(('accuracy')):  # Check if the line is not empty\n",
    "        t = eachLine.split()\n",
    "        v = []\n",
    "        for x in t[1:]:\n",
    "            if (x != 'avg'):\n",
    "                v.append(x)\n",
    "        table_data.append(v)\n",
    "table_data\n",
    "\n",
    "fig, ax_svc = edhd_plot.subplots(figsize=(10, 5))\n",
    "ax_svc.axis('off')\n",
    "\n",
    "ax_svc.table(cellText=table_data, colLabels=['Precision', 'Recall', 'F1-Score', 'Support'],\n",
    "         rowLabels=classes, cellLoc='center', loc='top',\n",
    "         bbox=[0, -0.3, 1, 1])\n",
    "edhd_plot.show()"
   ]
  },
  {
   "cell_type": "code",
   "execution_count": 12,
   "id": "50c136d1",
   "metadata": {},
   "outputs": [
    {
     "data": {
      "image/png": "[encoded data removed]",
      "text/plain": [
       "<Figure size 640x480 with 1 Axes>"
      ]
     },
     "metadata": {},
     "output_type": "display_data"
    },
    {
     "data": {
      "text/plain": [
       "0.7624609733700642"
      ]
     },
     "execution_count": 12,
     "metadata": {},
     "output_type": "execute_result"
    }
   ],
   "source": [
    "# plotting the area under the Receiver Operating Characteristic (ROC) curve\n",
    "prob_value = SVCmodel.predict_proba(X)[:,1]\n",
    "auc_svc = roc_auc_score(y,prob_value)\n",
    "fpr,tpr, threshold =  roc_curve(y,prob_value)\n",
    "edhd_plot.plot([0,1],[0,1], linestyle = '--')\n",
    "edhd_plot.plot(fpr,tpr,label = '%s (AUC:%0.2f)'  % ('SVM', auc_svc))\n",
    "edhd_plot.xlabel('False Positive Rate')\n",
    "edhd_plot.ylabel('True Positive Rate')\n",
    "edhd_plot.legend( loc='lower right')\n",
    "edhd_plot.show()\n",
    "auc_svc"
   ]
  },
  {
   "cell_type": "code",
   "execution_count": null,
   "id": "22d80b2e",
   "metadata": {},
   "outputs": [],
   "source": []
  },
  {
   "cell_type": "code",
   "execution_count": null,
   "id": "79e6332d-0e0f-4bb4-b930-ea817cf8b655",
   "metadata": {},
   "outputs": [],
   "source": []
  }
 ],
 "metadata": {
  "kernelspec": {
   "display_name": "Python 3 (ipykernel)",
   "language": "python",
   "name": "python3"
  },
  "language_info": {
   "codemirror_mode": {
    "name": "ipython",
    "version": 3
   },
   "file_extension": ".py",
   "mimetype": "text/x-python",
   "name": "python",
   "nbconvert_exporter": "python",
   "pygments_lexer": "ipython3",
   "version": "3.12.4"
  }
 },
 "nbformat": 4,
 "nbformat_minor": 5
}
